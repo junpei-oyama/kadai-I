{
 "cells": [
  {
   "cell_type": "markdown",
   "metadata": {},
   "source": [
    "# 評価指標"
   ]
  },
  {
   "cell_type": "markdown",
   "metadata": {},
   "source": [
    "## 回帰問題での評価指標"
   ]
  },
  {
   "cell_type": "markdown",
   "metadata": {},
   "source": [
    "### RSME(Root Mean Squared Error)"
   ]
  },
  {
   "cell_type": "markdown",
   "metadata": {},
   "source": [
    "二乗平均平方根誤差。  \n",
    "観測値を$y_i(i=1,2,..,n)$、モデルからの予測値を$\\hat{y_i}$とするとRSMEの定義式は以下の式になる。"
   ]
  },
  {
   "cell_type": "markdown",
   "metadata": {},
   "source": [
    "$$\n",
    "RMSE = \\sqrt{\\frac{1}{n}\\sum_{i=1}^{n} (y_i - \\hat{y_i})^2}\n",
    "$$"
   ]
  },
  {
   "cell_type": "markdown",
   "metadata": {},
   "source": [
    "RMSEは観測値と予測値が近いほど小さくなり、離れているほど大きくなる。つまり、外れ値が含まれるとRMSEの値は大きくなってしまう。  \n",
    "そのため外れ値が少ないデータ、もしくは外れ値を厳しく評価したい場合は適しているが、外れ値を多く含むようなデータを扱う場合にはあまり適していない。"
   ]
  },
  {
   "cell_type": "markdown",
   "metadata": {},
   "source": [
    "### MAE(Mean Absolute Error)"
   ]
  },
  {
   "cell_type": "markdown",
   "metadata": {},
   "source": [
    "平均絶対誤差。  \n",
    "観測値を$y_i(i=1,2,..,n)$、モデルからの予測値を$\\hat{y_i}$とするとMAEの定義式は以下の式になる。"
   ]
  },
  {
   "cell_type": "markdown",
   "metadata": {},
   "source": [
    "$$\n",
    "MAE = \\frac{\\sum_{i}{}(|y_i-\\hat{y_i}|)}{n}\n",
    "$$"
   ]
  },
  {
   "cell_type": "markdown",
   "metadata": {},
   "source": [
    "MAEの値はRMSEと同じく観測値と予測値が近いほど小さくなる。異なる点として、二乗をしていないため外れ値の影響を受けにくいという点がある。  \n",
    "そのため外れ値を多く含むデータや外れ値に影響されない評価を行いたい場合はMAEの方が適している。"
   ]
  },
  {
   "cell_type": "markdown",
   "metadata": {},
   "source": [
    "### 決定係数(R2 Score)"
   ]
  },
  {
   "cell_type": "markdown",
   "metadata": {},
   "source": [
    "モデルによって予測した値が観測値とどの程度一致しているかを表現する指標。  \n",
    "観測値を$y_i(i=1,2,..,n)$、モデルからの予測値を$\\hat{y_i}$とすると決定係数の定義式は以下の式になる。"
   ]
  },
  {
   "cell_type": "markdown",
   "metadata": {},
   "source": [
    "$$\n",
    "R^2 = 1 - \\frac{\\sum_{i}{}(y_i-\\hat{y_i})^2}{\\sum_{i}{}(y_i-\\overline{y_i})^2}\n",
    "$$"
   ]
  },
  {
   "cell_type": "markdown",
   "metadata": {},
   "source": [
    "1に近いほどモデルの予測値と観測値が一致していると判定できる。  \n",
    "別データ同士の比較やスケールの異なるデータの評価を行うときに有用である。"
   ]
  },
  {
   "cell_type": "markdown",
   "metadata": {},
   "source": [
    "## 2クラス分類での評価指標"
   ]
  },
  {
   "cell_type": "markdown",
   "metadata": {},
   "source": [
    "### 混同行列(Confusion Matrix)"
   ]
  },
  {
   "cell_type": "markdown",
   "metadata": {},
   "source": [
    "2値分類問題においてクラス分類の結果をまとめた行列。"
   ]
  },
  {
   "cell_type": "markdown",
   "metadata": {},
   "source": [
    "観測値とモデルの予測値それぞれのPositive,Negativeを組み合わせた4つのケースパターンがある。  \n",
    "例として猫かどうか判定するモデルがあるとすると4つのケースは以下のようになる。\n",
    "- TP(True Positive)\n",
    "    - 観測値は「猫である」、モデル予測値も「猫である」と判定した。\n",
    "- TN(True　Negative)\n",
    "    - 観測値は「猫ではない」、モデル予測値も「猫ではない」と判定した。\n",
    "- FP(False Positive)\n",
    "    - 観測値は「猫ではない」、モデル予測値は「猫である」と判定した。\n",
    "- FN(False Negative)\n",
    "    - 観測値は「猫である」、モデル予測値は「猫ではない」と判定した。"
   ]
  },
  {
   "cell_type": "markdown",
   "metadata": {},
   "source": [
    "### 正答率(Accuracy)"
   ]
  },
  {
   "cell_type": "markdown",
   "metadata": {},
   "source": [
    "データ全体の中で、どれだけ正しく分類できたかという指標。"
   ]
  },
  {
   "cell_type": "markdown",
   "metadata": {},
   "source": [
    "$$\n",
    "Accuracy = \\frac{TP+TN}{TP+FP+FN+TN}\n",
    "$$"
   ]
  },
  {
   "cell_type": "markdown",
   "metadata": {},
   "source": [
    "### 適合率(Precision)"
   ]
  },
  {
   "cell_type": "markdown",
   "metadata": {},
   "source": [
    "Positiveと分類された中で実際に観測値と一致していたものの割合。"
   ]
  },
  {
   "cell_type": "markdown",
   "metadata": {},
   "source": [
    "$$\n",
    "Precision = \\frac{TP}{TP+FP}\n",
    "$$"
   ]
  },
  {
   "cell_type": "markdown",
   "metadata": {},
   "source": [
    "### 再現率(Recall)"
   ]
  },
  {
   "cell_type": "markdown",
   "metadata": {},
   "source": [
    "Positiveと判定すべきデータの内、どの程度正しく拾えたかという指標。"
   ]
  },
  {
   "cell_type": "markdown",
   "metadata": {},
   "source": [
    "$$\n",
    "Recall = \\frac{TP}{TP+FN}\n",
    "$$"
   ]
  },
  {
   "cell_type": "markdown",
   "metadata": {},
   "source": [
    "### 交差エントロピー誤差"
   ]
  },
  {
   "cell_type": "markdown",
   "metadata": {},
   "source": [
    "交差エントロピーEは以下の式で定義される。"
   ]
  },
  {
   "cell_type": "markdown",
   "metadata": {},
   "source": [
    "$$\n",
    "E = -\\sum_{k}{}q(k)log(p(k))\n",
    "$$"
   ]
  },
  {
   "cell_type": "markdown",
   "metadata": {},
   "source": [
    "pはニューラルネットワークで学習された確率（モデルからの予測）で、qは教師データの確率である。"
   ]
  },
  {
   "cell_type": "markdown",
   "metadata": {},
   "source": [
    "分類問題で考えると、qの教師データは1か0のどちらかになるのでEの定義は以下の式になる。"
   ]
  },
  {
   "cell_type": "markdown",
   "metadata": {},
   "source": [
    "$$\n",
    "E = -log(p(k))\n",
    "$$"
   ]
  },
  {
   "cell_type": "markdown",
   "metadata": {},
   "source": [
    "この時、p(k)が1に近いほどEは低くなり、0に近いほど大きくなる。  \n",
    "したがって、この交差エントロピーの式は損失関数ともいえる。"
   ]
  },
  {
   "cell_type": "markdown",
   "metadata": {},
   "source": [
    "# 資料"
   ]
  },
  {
   "cell_type": "markdown",
   "metadata": {},
   "source": [
    "- 回帰分析の評価指標：  \n",
    "https://stats.biopapyrus.jp/glm/lm-evaluation.html  \n",
    "- 精度評価指標と回帰モデルの評価  \n",
    "https://funatsu-lab.github.io/open-course-ware/basic-theory/accuracy-index/#r2  \n",
    "-混同行列とは　Qiita：  \n",
    "https://qiita.com/TsutomuNakamura/items/a1a6a02cb9bb0dcbb37f"
   ]
  },
  {
   "cell_type": "markdown",
   "metadata": {},
   "source": [
    "終わり"
   ]
  }
 ],
 "metadata": {
  "kernelspec": {
   "display_name": "Python 3",
   "language": "python",
   "name": "python3"
  },
  "language_info": {
   "codemirror_mode": {
    "name": "ipython",
    "version": 3
   },
   "file_extension": ".py",
   "mimetype": "text/x-python",
   "name": "python",
   "nbconvert_exporter": "python",
   "pygments_lexer": "ipython3",
   "version": "3.7.3"
  },
  "toc": {
   "base_numbering": 1,
   "nav_menu": {},
   "number_sections": true,
   "sideBar": true,
   "skip_h1_title": false,
   "title_cell": "Table of Contents",
   "title_sidebar": "Contents",
   "toc_cell": false,
   "toc_position": {},
   "toc_section_display": true,
   "toc_window_display": false
  }
 },
 "nbformat": 4,
 "nbformat_minor": 2
}
